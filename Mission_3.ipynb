{
 "cells": [
  {
   "cell_type": "markdown",
   "metadata": {},
   "source": [
    "# Mission 3. 패션 스타일 선호 여부 예측"
   ]
  },
  {
   "cell_type": "markdown",
   "metadata": {},
   "source": [
    "### 목차\n",
    "- [3-1. 협업 필터링의 개념](#3-1)"
   ]
  },
  {
   "cell_type": "markdown",
   "metadata": {},
   "source": [
    "### 3-1. \n",
    "\n",
    "추천 시스템의 기본인 협업 필터링(Collaborative Filtering)은 크게 user-based filtering, item-based filtering 방식으로 나뉘어져 있다. 각각에 대해서 이해하고, 2-2에서 구해 본 응답자의 \"스타일 선호 정보표\"를 토대로 Validation 데이터 내 응답자의 \"스타일 선호 여부 예측\" 문제를 2가지 기법으로 어떻게 적용해 볼 수 있고, 서로 비교하여 어떤 장단점을 갖는지 설명한다."
   ]
  },
  {
   "cell_type": "markdown",
   "metadata": {},
   "source": [
    "협업 필터링이란 사용자와 아이템 간의 상호작용 데이터를 기반으로 유사한 사용자나 아이템을 찾아 새로운 추천을 생성하는 방법으로 사용자의 과거 행동 데이터나 유사한 사용자 그룹의 데이터를 활용해 개인화된 추천을 제공하는 것을 말합니다.\n",
    "협업 필터링은 \"User-based Filtering\", \"Item-based Filtering\" 로 나누어져있습니다. \n",
    "\n",
    "1. User-based Filtering   \n",
    "    - User-based filtering은 사용자의 취향이 비슷한 다른 사용자의 선호도를 바탕으로 추천을 진행합니다. \n",
    "    - 즉, 응답자 간의 유사성을 계산하고, 유사한 응답자가 선호하는 스타일을 현재 응답자에게 추천하거나 선호 여부를 예측하는 방식입니다.\n",
    "    - 유사도를 계산하는 방법은 각 응답자에 대한 선호 스타일 정보를 벡터화한 뒤 다른 응답자와의 유사도를 측정하는데, 이때 사용자 간의 유사성 평가는 row를 기준으로 구합니다. \n",
    "        - [응답자의 스타일 선호도 예측]을 예시로 설명하자면 유사한 응답자가 선호하는 스타일을 기반으로 validation 데이터 내의 응답자의 스타일 선호 여부를 예측합니다. \n",
    "    - User-based Filtering은 개인화된 추천을 제공하기 때문에 유사한 응답자들이 선호하는 스타일을 쉽게 예측할 수 있고 Validation 데이터에 포함된 새로운 스타일이라도 유사한 응답자의 선호를 토대로 예측이 가능하다는 장점을 가지고 있습니다. \n",
    "    - 그러나 사용자가 많아질 수록 유사도 계산 비용이 증가하며 사용자가 선호하는 것이 적은 경우 유사도 계산이 어렵거나 잘못된 결과가 나올 수도 있다는 단점을 가지고 있습니다.\n",
    "\n",
    "2. Item-based Filtering   \n",
    "    - Item-based filtering은 스타일 간의 유사도를 계산하여 추천을 진행하는 방식입니다. \n",
    "    - 즉, 응답자가 특정 스타일을 선호한다면, 해당 스타일과 유사한 스타일을 선호할 가능성이 높다고 예측하는 방식입니다.\n",
    "    - 유사도를 계산하는 방법은 User-based filtering과 같이 응답자 간의 스타일 정보를 벡터화 한 후 스타일 간의 유사도를 측정합니다. \n",
    "        - 이 과정에서 ResNet-18의 중간 레이어에서 추출한 특징 벡터를 이용하여 각 스타일 간의 코사인 유사도를 계산하며, 유사도가 높은 스타일을 선호 여부에 따라 예측합니다. \n",
    "        - 그리고 이때, row기준이 아닌 column기준으로 유사도 평가를 진행합니다. \n",
    "    - 이 방법은 스타일 자체를 기반으로 추천을 진행하기 때문에, 응답자의 수가 증가해도 계산 효율이 높다는 장점이 있습니다. \n",
    "    - 또한 스타일 간의 유사성을 기반으로 예측을 진행하기 때문에 스타일에 대한 취향이 분명한 경우 정확도가 높아집니다. \n",
    "    - 그러나 개별 응답자의 특성을 반영하기는 어려워 개인화된 추천에는 한계가 있다는 단점이 존재합니다."
   ]
  },
  {
   "cell_type": "markdown",
   "metadata": {},
   "source": [
    "예시를 통해 구체적으로 설명해보겠습니다. \n",
    "\n",
    "- 응답자 1은 \"feminine\"과 \"punk\" 스타일의 이미지를 선호, \"sportive casual\" 스타일의 이미지를 비선호 \n",
    "- 응답자 2는 \"feminine\"과 \"classic\" 스타일의 이미지를 선호, \"punk\" 스타일의 이미지를 비선호\n",
    "- 응답자 3은 \"sportive casual\"과 \"punk\" 스타일의 이미지를 선호, \"feminine\" 스타일의 이미지를 비선호\n",
    "\n",
    "User-based filtering 방식은 먼저 응답자 간 유사도를 계산합니다. 응답자1과 2는 “feminine” 스타일을 모두 선호하고 있으므로 이 둘의 유사도는 높게 나올 것이고, 응답자1과 3은 선호하는 스타일이 다르므로 유사도가 낮게 나올 것입니다. 추가적으로 새로운 이미지가 들어왔을 때 “classic”스타일에 속한다면 응답자1에 대한 선호 정보가 없더라도 “classic”을 선호하는 응답자2와의 유사도를 바탕으로 예측이 가능합니다.  \n",
    "\n",
    "Item-based filtering 방식은 앞서 만든 ResNet-18에서 각 이미지에 대한 특징 벡터를 추출하고 이를 통해 스타일 간 유사도를 계산합니다. 예를 들어, \"feminine\" 스타일 이미지와 \"punk\" 스타일 이미지 간의 코사인 유사도를 계산하여 두 스타일 간의 유사성을 파악합니다. 응답자 1이 \"feminine\" 스타일을 선호한다고 할 때, 새로운 이미지가 들어왔을 때 \"punk\" 스타일에 속한다면, 해당 이미지를 \"feminine\" 스타일과의 유사도를 바탕으로 응답자 1의 선호 여부를 예측할 수 있습니다. 만약 \"feminine\" 스타일과 \"punk\" 스타일 간의 유사도가 높게 나온다면, 응답자 1이 새로운 \"punk\" 스타일 이미지를 선호할 가능성이 높다고 예측합니다.\n",
    "\n",
    "정리하자면 User-based Filtering은 개별 응답자의 선호도를 더 잘 반영할 수 있어 개인화에 유리하지만, 데이터가 희소할 때 예측 성능이 떨어질 수 있습니다. 반면 Item-based Filtering은 응답자 수가 증가해도 효율성이 유지되며 스타일 예측이 명확해지지만, 개인화된 추천에는 한계가 있을 수 있습니다. 그렇기 때문에 사용자의 개인적 취향을 더 잘 반영하고자 한다면 user-based filtering이 더 적합하고, 새로운 사용자가 많은 시스템이나 사용자 정보가 부족한 경우 item-based filtering이 더 유리하다고 할 수 있습니다."
   ]
  },
  {
   "cell_type": "code",
   "execution_count": 1,
   "metadata": {},
   "outputs": [
    {
     "name": "stdout",
     "output_type": "stream",
     "text": [
      "User-based 추천: ['classic', 'feminine', 'punk', 'sportive casual']\n",
      "Item-based 추천: ['classic', 'punk']\n"
     ]
    }
   ],
   "source": [
    "import pandas as pd\n",
    "from sklearn.metrics.pairwise import cosine_similarity\n",
    "import numpy as np\n",
    "\n",
    "# 예시 데이터: 응답자와 스타일 선호 데이터를 DataFrame으로 정의\n",
    "data = {\n",
    "    '응답자': ['응답자1', '응답자1', '응답자1', '응답자2', '응답자2', '응답자2', '응답자3', '응답자3', '응답자3'],\n",
    "    '스타일': ['feminine', 'punk', 'sportive casual', 'feminine', 'classic', 'punk', 'sportive casual', 'punk', 'feminine'],\n",
    "    '선호도': [1, 1, 0, 1, 1, 0, 1, 1, 0]\n",
    "}\n",
    "\n",
    "df = pd.DataFrame(data)\n",
    "\n",
    "# 데이터 피벗 테이블 생성 (응답자-스타일 선호도 매트릭스)\n",
    "user_style_matrix = df.pivot(index='응답자', columns='스타일', values='선호도').fillna(0)\n",
    "\n",
    "# 1. User-based Filtering: 사용자 간 유사도 계산\n",
    "user_similarity = cosine_similarity(user_style_matrix)\n",
    "user_similarity_df = pd.DataFrame(user_similarity, index=user_style_matrix.index, columns=user_style_matrix.index)\n",
    "\n",
    "# 2. Item-based Filtering: 스타일 간 유사도 계산\n",
    "item_similarity = cosine_similarity(user_style_matrix.T)  # 스타일 간의 유사도는 전치 행렬 사용\n",
    "item_similarity_df = pd.DataFrame(item_similarity, index=user_style_matrix.columns, columns=user_style_matrix.columns)\n",
    "\n",
    "# User-based Filtering을 통한 추천\n",
    "def recommend_user_based(user, matrix, similarity_df, n_recommendations=2):\n",
    "    similar_users = similarity_df[user].sort_values(ascending=False)\n",
    "    similar_users = similar_users[similar_users > 0].index[1:n_recommendations+1]  # 가장 유사한 사용자 선택\n",
    "    recommendations = matrix.loc[similar_users].mean().sort_values(ascending=False)\n",
    "    return recommendations[recommendations > 0].index.tolist()\n",
    "\n",
    "# Item-based Filtering을 통한 추천\n",
    "def recommend_item_based(style, matrix, similarity_df, n_recommendations=2):\n",
    "    similar_items = similarity_df[style].sort_values(ascending=False)\n",
    "    similar_items = similar_items[similar_items > 0].index[1:n_recommendations+1]  # 가장 유사한 스타일 선택\n",
    "    return similar_items.tolist()\n",
    "\n",
    "# 예시 추천 결과\n",
    "print(\"User-based 추천:\", recommend_user_based('응답자1', user_style_matrix, user_similarity_df))\n",
    "print(\"Item-based 추천:\", recommend_item_based('feminine', user_style_matrix, item_similarity_df))"
   ]
  }
 ],
 "metadata": {
  "kernelspec": {
   "display_name": "torch",
   "language": "python",
   "name": "python3"
  },
  "language_info": {
   "codemirror_mode": {
    "name": "ipython",
    "version": 3
   },
   "file_extension": ".py",
   "mimetype": "text/x-python",
   "name": "python",
   "nbconvert_exporter": "python",
   "pygments_lexer": "ipython3",
   "version": "3.11.10"
  }
 },
 "nbformat": 4,
 "nbformat_minor": 2
}
