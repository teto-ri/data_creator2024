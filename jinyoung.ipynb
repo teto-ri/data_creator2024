{
 "cells": [
  {
   "cell_type": "markdown",
   "metadata": {},
   "source": [
    "# Mission 1"
   ]
  },
  {
   "cell_type": "markdown",
   "metadata": {},
   "source": [
    "### Mission 1-1 (Read Image files)"
   ]
  },
  {
   "cell_type": "code",
   "execution_count": 41,
   "metadata": {},
   "outputs": [],
   "source": [
    "import pandas as pd\n",
    "\n",
    "def read_file_names(path, ext):\n",
    "    import glob\n",
    "    # Get list of all jpg files in the specified directory\n",
    "    files = glob.glob(path + '/*.' + ext)\n",
    "\n",
    "    file_names = [file.split('/')[-1].split('.')[0] for file in files]\n",
    "    return file_names"
   ]
  },
  {
   "cell_type": "markdown",
   "metadata": {},
   "source": [
    "- Read Training Images"
   ]
  },
  {
   "cell_type": "code",
   "execution_count": 37,
   "metadata": {},
   "outputs": [
    {
     "data": {
      "text/html": [
       "<div>\n",
       "<style scoped>\n",
       "    .dataframe tbody tr th:only-of-type {\n",
       "        vertical-align: middle;\n",
       "    }\n",
       "\n",
       "    .dataframe tbody tr th {\n",
       "        vertical-align: top;\n",
       "    }\n",
       "\n",
       "    .dataframe thead th {\n",
       "        text-align: right;\n",
       "    }\n",
       "</style>\n",
       "<table border=\"1\" class=\"dataframe\">\n",
       "  <thead>\n",
       "    <tr style=\"text-align: right;\">\n",
       "      <th></th>\n",
       "      <th>file_name</th>\n",
       "    </tr>\n",
       "  </thead>\n",
       "  <tbody>\n",
       "    <tr>\n",
       "      <th>0</th>\n",
       "      <td>W_01752_00_metrosexual_M</td>\n",
       "    </tr>\n",
       "    <tr>\n",
       "      <th>1</th>\n",
       "      <td>W_46417_70_military_W</td>\n",
       "    </tr>\n",
       "    <tr>\n",
       "      <th>2</th>\n",
       "      <td>W_01509_00_metrosexual_M</td>\n",
       "    </tr>\n",
       "    <tr>\n",
       "      <th>3</th>\n",
       "      <td>W_18951_50_feminine_W</td>\n",
       "    </tr>\n",
       "    <tr>\n",
       "      <th>4</th>\n",
       "      <td>W_29485_10_sportivecasual_M</td>\n",
       "    </tr>\n",
       "  </tbody>\n",
       "</table>\n",
       "</div>"
      ],
      "text/plain": [
       "                     file_name\n",
       "0     W_01752_00_metrosexual_M\n",
       "1        W_46417_70_military_W\n",
       "2     W_01509_00_metrosexual_M\n",
       "3        W_18951_50_feminine_W\n",
       "4  W_29485_10_sportivecasual_M"
      ]
     },
     "metadata": {},
     "output_type": "display_data"
    },
    {
     "data": {
      "text/html": [
       "<div>\n",
       "<style scoped>\n",
       "    .dataframe tbody tr th:only-of-type {\n",
       "        vertical-align: middle;\n",
       "    }\n",
       "\n",
       "    .dataframe tbody tr th {\n",
       "        vertical-align: top;\n",
       "    }\n",
       "\n",
       "    .dataframe thead th {\n",
       "        text-align: right;\n",
       "    }\n",
       "</style>\n",
       "<table border=\"1\" class=\"dataframe\">\n",
       "  <thead>\n",
       "    <tr style=\"text-align: right;\">\n",
       "      <th></th>\n",
       "      <th>gender</th>\n",
       "      <th>style</th>\n",
       "      <th>ID</th>\n",
       "    </tr>\n",
       "  </thead>\n",
       "  <tbody>\n",
       "    <tr>\n",
       "      <th>0</th>\n",
       "      <td>M</td>\n",
       "      <td>metrosexual</td>\n",
       "      <td>01752</td>\n",
       "    </tr>\n",
       "    <tr>\n",
       "      <th>1</th>\n",
       "      <td>W</td>\n",
       "      <td>military</td>\n",
       "      <td>46417</td>\n",
       "    </tr>\n",
       "    <tr>\n",
       "      <th>2</th>\n",
       "      <td>M</td>\n",
       "      <td>metrosexual</td>\n",
       "      <td>01509</td>\n",
       "    </tr>\n",
       "    <tr>\n",
       "      <th>3</th>\n",
       "      <td>W</td>\n",
       "      <td>feminine</td>\n",
       "      <td>18951</td>\n",
       "    </tr>\n",
       "    <tr>\n",
       "      <th>4</th>\n",
       "      <td>M</td>\n",
       "      <td>sportivecasual</td>\n",
       "      <td>29485</td>\n",
       "    </tr>\n",
       "  </tbody>\n",
       "</table>\n",
       "</div>"
      ],
      "text/plain": [
       "  gender           style     ID\n",
       "0      M     metrosexual  01752\n",
       "1      W        military  46417\n",
       "2      M     metrosexual  01509\n",
       "3      W        feminine  18951\n",
       "4      M  sportivecasual  29485"
      ]
     },
     "metadata": {},
     "output_type": "display_data"
    },
    {
     "data": {
      "text/plain": [
       "gender  style         \n",
       "M       normcore          364\n",
       "        sportivecasual    298\n",
       "        metrosexual       278\n",
       "        hiphop            274\n",
       "        mods              269\n",
       "Name: count, dtype: int64"
      ]
     },
     "metadata": {},
     "output_type": "display_data"
    },
    {
     "data": {
      "text/plain": [
       "(4070, 3)"
      ]
     },
     "execution_count": 37,
     "metadata": {},
     "output_type": "execute_result"
    }
   ],
   "source": [
    "training_file_names = read_file_names('./data/training_image', 'jpg')\n",
    "\n",
    "\n",
    "pd.set_option('display.max_columns', None)\n",
    "# pd.reset_option('display.max_columns')\n",
    "\n",
    "# Create a DataFrame from the list of file names\n",
    "df_training_image = pd.DataFrame(training_file_names, columns=['file_name'])\n",
    "display(df_training_image.head())\n",
    "\n",
    "### Create new columns\n",
    "df_training_image['gender'] =  df_training_image['file_name'].apply(lambda x: x.split('_')[-1])\n",
    "df_training_image['style'] =  df_training_image['file_name'].apply(lambda x: x.split('_')[-2])\n",
    "df_training_image['ID'] =  df_training_image['file_name'].apply(lambda x: x.split('_')[1])\n",
    "\n",
    "df_training_image.drop(columns=['file_name'], inplace=True)\n",
    "display(df_training_image.head())\n",
    "\n",
    "### Groupby gender and style\n",
    "# df_training_image.groupby('gender').groupby('style').count()\n",
    "# style_stats = df_training_image.groupby('gender')['style'].value_counts().unstack().fillna(0)\n",
    "style_stats = df_training_image.groupby('gender')['style'].value_counts()\n",
    "# display(style_stats.info())\n",
    "display(style_stats.head())\n",
    "\n",
    "df_training_image.shape"
   ]
  },
  {
   "cell_type": "markdown",
   "metadata": {},
   "source": [
    "- Read Validation Images"
   ]
  },
  {
   "cell_type": "code",
   "execution_count": 38,
   "metadata": {},
   "outputs": [
    {
     "data": {
      "text/html": [
       "<div>\n",
       "<style scoped>\n",
       "    .dataframe tbody tr th:only-of-type {\n",
       "        vertical-align: middle;\n",
       "    }\n",
       "\n",
       "    .dataframe tbody tr th {\n",
       "        vertical-align: top;\n",
       "    }\n",
       "\n",
       "    .dataframe thead th {\n",
       "        text-align: right;\n",
       "    }\n",
       "</style>\n",
       "<table border=\"1\" class=\"dataframe\">\n",
       "  <thead>\n",
       "    <tr style=\"text-align: right;\">\n",
       "      <th></th>\n",
       "      <th>file_name</th>\n",
       "    </tr>\n",
       "  </thead>\n",
       "  <tbody>\n",
       "    <tr>\n",
       "      <th>0</th>\n",
       "      <td>W_14468_10_sportivecasual_W</td>\n",
       "    </tr>\n",
       "    <tr>\n",
       "      <th>1</th>\n",
       "      <td>W_17239_19_normcore_M</td>\n",
       "    </tr>\n",
       "    <tr>\n",
       "      <th>2</th>\n",
       "      <td>W_06895_00_metrosexual_M</td>\n",
       "    </tr>\n",
       "    <tr>\n",
       "      <th>3</th>\n",
       "      <td>W_13354_50_feminine_W</td>\n",
       "    </tr>\n",
       "    <tr>\n",
       "      <th>4</th>\n",
       "      <td>W_07018_19_normcore_M</td>\n",
       "    </tr>\n",
       "  </tbody>\n",
       "</table>\n",
       "</div>"
      ],
      "text/plain": [
       "                     file_name\n",
       "0  W_14468_10_sportivecasual_W\n",
       "1        W_17239_19_normcore_M\n",
       "2     W_06895_00_metrosexual_M\n",
       "3        W_13354_50_feminine_W\n",
       "4        W_07018_19_normcore_M"
      ]
     },
     "metadata": {},
     "output_type": "display_data"
    },
    {
     "data": {
      "text/html": [
       "<div>\n",
       "<style scoped>\n",
       "    .dataframe tbody tr th:only-of-type {\n",
       "        vertical-align: middle;\n",
       "    }\n",
       "\n",
       "    .dataframe tbody tr th {\n",
       "        vertical-align: top;\n",
       "    }\n",
       "\n",
       "    .dataframe thead th {\n",
       "        text-align: right;\n",
       "    }\n",
       "</style>\n",
       "<table border=\"1\" class=\"dataframe\">\n",
       "  <thead>\n",
       "    <tr style=\"text-align: right;\">\n",
       "      <th></th>\n",
       "      <th>gender</th>\n",
       "      <th>style</th>\n",
       "      <th>ID</th>\n",
       "    </tr>\n",
       "  </thead>\n",
       "  <tbody>\n",
       "    <tr>\n",
       "      <th>0</th>\n",
       "      <td>W</td>\n",
       "      <td>sportivecasual</td>\n",
       "      <td>14468</td>\n",
       "    </tr>\n",
       "    <tr>\n",
       "      <th>1</th>\n",
       "      <td>M</td>\n",
       "      <td>normcore</td>\n",
       "      <td>17239</td>\n",
       "    </tr>\n",
       "    <tr>\n",
       "      <th>2</th>\n",
       "      <td>M</td>\n",
       "      <td>metrosexual</td>\n",
       "      <td>06895</td>\n",
       "    </tr>\n",
       "    <tr>\n",
       "      <th>3</th>\n",
       "      <td>W</td>\n",
       "      <td>feminine</td>\n",
       "      <td>13354</td>\n",
       "    </tr>\n",
       "    <tr>\n",
       "      <th>4</th>\n",
       "      <td>M</td>\n",
       "      <td>normcore</td>\n",
       "      <td>07018</td>\n",
       "    </tr>\n",
       "  </tbody>\n",
       "</table>\n",
       "</div>"
      ],
      "text/plain": [
       "  gender           style     ID\n",
       "0      W  sportivecasual  14468\n",
       "1      M        normcore  17239\n",
       "2      M     metrosexual  06895\n",
       "3      W        feminine  13354\n",
       "4      M        normcore  07018"
      ]
     },
     "metadata": {},
     "output_type": "display_data"
    },
    {
     "data": {
      "text/plain": [
       "gender  style      \n",
       "M       hippie         82\n",
       "        mods           80\n",
       "        ivy            79\n",
       "        hiphop         66\n",
       "        metrosexual    58\n",
       "Name: count, dtype: int64"
      ]
     },
     "metadata": {},
     "output_type": "display_data"
    },
    {
     "data": {
      "text/plain": [
       "(951, 3)"
      ]
     },
     "execution_count": 38,
     "metadata": {},
     "output_type": "execute_result"
    }
   ],
   "source": [
    "validation_file_names = read_file_names('./data/validation_image', 'jpg')\n",
    "\n",
    "\n",
    "pd.set_option('display.max_columns', None)\n",
    "# pd.reset_option('display.max_columns')\n",
    "\n",
    "# Create a DataFrame from the list of file names\n",
    "df_validation_image = pd.DataFrame(validation_file_names, columns=['file_name'])\n",
    "display(df_validation_image.head())\n",
    "\n",
    "### Create new columns\n",
    "df_validation_image['gender'] =  df_validation_image['file_name'].apply(lambda x: x.split('_')[-1])\n",
    "df_validation_image['style'] =  df_validation_image['file_name'].apply(lambda x: x.split('_')[-2])\n",
    "df_validation_image['ID'] =  df_validation_image['file_name'].apply(lambda x: x.split('_')[1])\n",
    "\n",
    "df_validation_image.drop(columns=['file_name'], inplace=True)\n",
    "display(df_validation_image.head())\n",
    "\n",
    "### Groupby gender and style\n",
    "# df_validation_image.groupby('gender').groupby('style').count()\n",
    "# style_stats = df_validation_image.groupby('gender')['style'].value_counts().unstack().fillna(0)\n",
    "style_stats = df_validation_image.groupby('gender')['style'].value_counts()\n",
    "# display(style_stats.info())\n",
    "display(style_stats.head())\n",
    "\n",
    "df_validation_image.shape"
   ]
  },
  {
   "cell_type": "markdown",
   "metadata": {},
   "source": [
    "# Mission 2"
   ]
  },
  {
   "cell_type": "markdown",
   "metadata": {},
   "source": [
    "### Mission 2-1 (Read Json files)"
   ]
  },
  {
   "cell_type": "markdown",
   "metadata": {},
   "source": [
    "- Read Training Jsons"
   ]
  },
  {
   "cell_type": "code",
   "execution_count": 39,
   "metadata": {},
   "outputs": [
    {
     "data": {
      "text/plain": [
       "(211346, 4)"
      ]
     },
     "metadata": {},
     "output_type": "display_data"
    },
    {
     "data": {
      "text/plain": [
       "(20304, 2)"
      ]
     },
     "metadata": {},
     "output_type": "display_data"
    },
    {
     "data": {
      "text/html": [
       "<div>\n",
       "<style scoped>\n",
       "    .dataframe tbody tr th:only-of-type {\n",
       "        vertical-align: middle;\n",
       "    }\n",
       "\n",
       "    .dataframe tbody tr th {\n",
       "        vertical-align: top;\n",
       "    }\n",
       "\n",
       "    .dataframe thead th {\n",
       "        text-align: right;\n",
       "    }\n",
       "</style>\n",
       "<table border=\"1\" class=\"dataframe\">\n",
       "  <thead>\n",
       "    <tr style=\"text-align: right;\">\n",
       "      <th></th>\n",
       "      <th></th>\n",
       "      <th>count</th>\n",
       "    </tr>\n",
       "    <tr>\n",
       "      <th>gender</th>\n",
       "      <th>style</th>\n",
       "      <th></th>\n",
       "    </tr>\n",
       "  </thead>\n",
       "  <tbody>\n",
       "    <tr>\n",
       "      <th rowspan=\"5\" valign=\"top\">M</th>\n",
       "      <th>ivy</th>\n",
       "      <td>1719</td>\n",
       "    </tr>\n",
       "    <tr>\n",
       "      <th>sportivecasual</th>\n",
       "      <td>1657</td>\n",
       "    </tr>\n",
       "    <tr>\n",
       "      <th>mods</th>\n",
       "      <td>1616</td>\n",
       "    </tr>\n",
       "    <tr>\n",
       "      <th>hippie</th>\n",
       "      <td>1571</td>\n",
       "    </tr>\n",
       "    <tr>\n",
       "      <th>hiphop</th>\n",
       "      <td>1321</td>\n",
       "    </tr>\n",
       "  </tbody>\n",
       "</table>\n",
       "</div>"
      ],
      "text/plain": [
       "                       count\n",
       "gender style                \n",
       "M      ivy              1719\n",
       "       sportivecasual   1657\n",
       "       mods             1616\n",
       "       hippie           1571\n",
       "       hiphop           1321"
      ]
     },
     "execution_count": 39,
     "metadata": {},
     "output_type": "execute_result"
    }
   ],
   "source": [
    "training_json_names = read_file_names('./data/training_label', 'json')\n",
    "len(training_json_names)\n",
    "df_training_json = pd.DataFrame(training_json_names, columns=['file_name'])\n",
    "# display(df_training_json)\n",
    "\n",
    "### Create new columns\n",
    "df_training_json['gender'] =  df_training_json['file_name'].apply(lambda x: x.split('_')[-2])\n",
    "df_training_json['style'] =  df_training_json['file_name'].apply(lambda x: x.split('_')[-3])\n",
    "df_training_json['ID'] =  df_training_json['file_name'].apply(lambda x: x.split('_')[1])\n",
    "\n",
    "\n",
    "# df_training_json.info()\n",
    "display(df_training_json.shape)\n",
    "\n",
    "### Drop rows not in df_image's ID\n",
    "\n",
    "df_training_json = df_training_json[df_training_json['ID'].isin(df_training_image['ID'])]\n",
    "\n",
    "### Drop file_name column\n",
    "df_training_json.drop(columns=['file_name', 'ID'], inplace=True)\n",
    "\n",
    "display(df_training_json.shape)\n",
    "\n",
    "# display(df_training_json.head())\n",
    "\n",
    "gender_style_stats = df_training_json.groupby('gender')['style'].value_counts().to_frame()\n",
    "gender_style_stats.head()"
   ]
  },
  {
   "cell_type": "markdown",
   "metadata": {},
   "source": [
    "- Read Validation Jsons"
   ]
  },
  {
   "cell_type": "code",
   "execution_count": 40,
   "metadata": {},
   "outputs": [
    {
     "data": {
      "text/plain": [
       "(36383, 4)"
      ]
     },
     "metadata": {},
     "output_type": "display_data"
    },
    {
     "data": {
      "text/plain": [
       "(4263, 2)"
      ]
     },
     "metadata": {},
     "output_type": "display_data"
    },
    {
     "data": {
      "text/html": [
       "<div>\n",
       "<style scoped>\n",
       "    .dataframe tbody tr th:only-of-type {\n",
       "        vertical-align: middle;\n",
       "    }\n",
       "\n",
       "    .dataframe tbody tr th {\n",
       "        vertical-align: top;\n",
       "    }\n",
       "\n",
       "    .dataframe thead th {\n",
       "        text-align: right;\n",
       "    }\n",
       "</style>\n",
       "<table border=\"1\" class=\"dataframe\">\n",
       "  <thead>\n",
       "    <tr style=\"text-align: right;\">\n",
       "      <th></th>\n",
       "      <th></th>\n",
       "      <th>count</th>\n",
       "    </tr>\n",
       "    <tr>\n",
       "      <th>gender</th>\n",
       "      <th>style</th>\n",
       "      <th></th>\n",
       "    </tr>\n",
       "  </thead>\n",
       "  <tbody>\n",
       "    <tr>\n",
       "      <th rowspan=\"5\" valign=\"top\">M</th>\n",
       "      <th>ivy</th>\n",
       "      <td>537</td>\n",
       "    </tr>\n",
       "    <tr>\n",
       "      <th>hippie</th>\n",
       "      <td>474</td>\n",
       "    </tr>\n",
       "    <tr>\n",
       "      <th>mods</th>\n",
       "      <td>439</td>\n",
       "    </tr>\n",
       "    <tr>\n",
       "      <th>hiphop</th>\n",
       "      <td>259</td>\n",
       "    </tr>\n",
       "    <tr>\n",
       "      <th>metrosexual</th>\n",
       "      <td>224</td>\n",
       "    </tr>\n",
       "  </tbody>\n",
       "</table>\n",
       "</div>"
      ],
      "text/plain": [
       "                    count\n",
       "gender style             \n",
       "M      ivy            537\n",
       "       hippie         474\n",
       "       mods           439\n",
       "       hiphop         259\n",
       "       metrosexual    224"
      ]
     },
     "execution_count": 40,
     "metadata": {},
     "output_type": "execute_result"
    }
   ],
   "source": [
    "validation_json_names = read_file_names('./data/validation_label', 'json')\n",
    "len(validation_json_names)\n",
    "df_validation_json = pd.DataFrame(validation_json_names, columns=['file_name'])\n",
    "# display(df_validation_json)\n",
    "\n",
    "### Create new columns\n",
    "df_validation_json['gender'] =  df_validation_json['file_name'].apply(lambda x: x.split('_')[-2])\n",
    "df_validation_json['style'] =  df_validation_json['file_name'].apply(lambda x: x.split('_')[-3])\n",
    "df_validation_json['ID'] =  df_validation_json['file_name'].apply(lambda x: x.split('_')[1])\n",
    "\n",
    "\n",
    "# df_validation_json.info()\n",
    "display(df_validation_json.shape)\n",
    "\n",
    "### Drop rows not in df_image's ID\n",
    "\n",
    "df_validation_json = df_validation_json[df_validation_json['ID'].isin(df_validation_image['ID'])]\n",
    "\n",
    "### Drop file_name column\n",
    "df_validation_json.drop(columns=['file_name', 'ID'], inplace=True)\n",
    "\n",
    "display(df_validation_json.shape)\n",
    "\n",
    "# display(df_validation_json.head())\n",
    "\n",
    "gender_style_stats = df_validation_json.groupby('gender')['style'].value_counts().to_frame()\n",
    "gender_style_stats.head()"
   ]
  },
  {
   "cell_type": "code",
   "execution_count": null,
   "metadata": {},
   "outputs": [],
   "source": []
  }
 ],
 "metadata": {
  "kernelspec": {
   "display_name": "torch",
   "language": "python",
   "name": "python3"
  },
  "language_info": {
   "codemirror_mode": {
    "name": "ipython",
    "version": 3
   },
   "file_extension": ".py",
   "mimetype": "text/x-python",
   "name": "python",
   "nbconvert_exporter": "python",
   "pygments_lexer": "ipython3",
   "version": "3.11.10"
  }
 },
 "nbformat": 4,
 "nbformat_minor": 2
}
